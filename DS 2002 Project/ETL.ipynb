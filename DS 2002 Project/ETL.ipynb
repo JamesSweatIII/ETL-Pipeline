{
 "cells": [
  {
   "cell_type": "markdown",
   "id": "924aede8-45c9-499a-ba67-f17528e4c0d5",
   "metadata": {},
   "source": [
    "# Extract, Transform, Load\n",
    "## Goal: To demonstrate understanding of a basic ETL data pipeline by extracting data from a MongoDB cluster/database/collection, a MySQL locally hosted server, and a local filesystem."
   ]
  },
  {
   "cell_type": "code",
   "execution_count": null,
   "id": "80a6f620-de60-4bb0-bc66-2196b6575b7e",
   "metadata": {
    "tags": []
   },
   "outputs": [],
   "source": [
    "# Imports: \n",
    "\n",
    "import os\n",
    "from sqlalchemy import text, create_engine\n",
    "import pandas as pd\n",
    "import json\n",
    "import datetime\n",
    "import pymongo\n",
    "import pymysql\n",
    "import datetime"
   ]
  },
  {
   "cell_type": "code",
   "execution_count": null,
   "id": "be5c8044-8595-4b4f-91bc-07457e7fb822",
   "metadata": {
    "tags": []
   },
   "outputs": [],
   "source": [
    "#allows pd to show more columns when printing head\n",
    "pd.set_option('display.max_columns', 500)"
   ]
  },
  {
   "cell_type": "markdown",
   "id": "4a0207cc-cf1b-4aca-813d-28ec3c65b965",
   "metadata": {},
   "source": [
    "## Load data from MySQL Employees Data Warehouse"
   ]
  },
  {
   "cell_type": "code",
   "execution_count": null,
   "id": "1d39d13f-bad0-42cc-949e-dd495b2986a1",
   "metadata": {
    "tags": []
   },
   "outputs": [],
   "source": [
    "host_name = \"localhost\" # the host name\n",
    "port = \"3306\" # the port to connect on\n",
    "user_id = \"root\" # the user id of the account\n",
    "pwd = os.environ[\"PWD\"] # an enviornmental variable invisible as I delete the cell after creating it. \n",
    "\n",
    "src_dbname = \"employees\" #the database we are loading from\n"
   ]
  },
  {
   "cell_type": "code",
   "execution_count": null,
   "id": "99ebe18f-f52e-4784-bfb9-fc7e831f567a",
   "metadata": {
    "tags": []
   },
   "outputs": [],
   "source": [
    "# function written by J. Tupitza with the purpose of loading a dataframe from a MySQL server\n",
    "def get_dataframe(user_id, pwd, host_name, db_name, sql_query):\n",
    "    conn_str = f\"mysql+pymysql://{user_id}:{pwd}@{host_name}/{db_name}\"\n",
    "    sqlEngine = create_engine(conn_str, pool_recycle=3600)\n",
    "    connection = sqlEngine.connect()\n",
    "    dframe = pd.read_sql(sql_query, connection);\n",
    "    connection.close()\n",
    "    \n",
    "    return dframe"
   ]
  },
  {
   "cell_type": "code",
   "execution_count": null,
   "id": "dff4d7f2-f1ea-4c30-a87d-00c84db61d67",
   "metadata": {
    "tags": []
   },
   "outputs": [],
   "source": [
    "#Loading the employees table from employees\n",
    "query = \"SELECT * FROM employees;\"\n",
    "employees = get_dataframe(user_id, pwd, host_name, src_dbname, text(query))\n",
    "employees.head(100)"
   ]
  },
  {
   "cell_type": "code",
   "execution_count": null,
   "id": "7e85a9bf-f491-4b42-b4b9-cf61eb09af18",
   "metadata": {
    "tags": []
   },
   "outputs": [],
   "source": [
    "#Loads the departments table from employees\n",
    "query = \"SELECT * FROM departments;\"\n",
    "departments = get_dataframe(user_id, pwd, host_name, src_dbname, text(query))\n",
    "departments.head(1)"
   ]
  },
  {
   "cell_type": "code",
   "execution_count": null,
   "id": "30166ac8-79b7-4a7b-82ad-977377346340",
   "metadata": {
    "tags": []
   },
   "outputs": [],
   "source": [
    "#Loads the dept_emp table from employees\n",
    "query = \"SELECT * FROM dept_emp;\"\n",
    "dept_emp = get_dataframe(user_id, pwd, host_name, src_dbname, text(query))\n",
    "dept_emp.head(1)"
   ]
  },
  {
   "cell_type": "code",
   "execution_count": null,
   "id": "7f305623-d76e-4430-ac91-5a489964a459",
   "metadata": {
    "tags": []
   },
   "outputs": [],
   "source": [
    "#loads the dept_manager table from employees\n",
    "query = \"SELECT * FROM employees.salaries;\"\n",
    "salaries = get_dataframe(user_id, pwd, host_name, src_dbname, text(query))\n",
    "salaries.head(1)"
   ]
  },
  {
   "cell_type": "code",
   "execution_count": null,
   "id": "5e3d9ed5-a46f-4bc1-ab92-86729efbc594",
   "metadata": {
    "tags": []
   },
   "outputs": [],
   "source": [
    "#Loads the lowestpaidemployee table from employees\n",
    "query = \"SELECT * FROM employees.lowestpaidemployee;\"\n",
    "lowestpaidemployee = get_dataframe(user_id, pwd, host_name, src_dbname, text(query))\n",
    "lowestpaidemployee.head(2)"
   ]
  },
  {
   "cell_type": "code",
   "execution_count": null,
   "id": "c8e676b1-3449-4525-bb2e-5e9cb6753227",
   "metadata": {
    "tags": []
   },
   "outputs": [],
   "source": [
    "#Loads the lowsalemp table from employees\n",
    "query = \"SELECT * FROM employees.dept_manager;\"\n",
    "dept_manager = get_dataframe(user_id, pwd, host_name, src_dbname, text(query))\n",
    "dept_manager.head(100)"
   ]
  },
  {
   "cell_type": "code",
   "execution_count": null,
   "id": "c8e676b1-3449-4525-bb2e-5e9cb6753227",
   "metadata": {
    "tags": []
   },
   "outputs": [],
   "source": [
    "#Loads the lowsalemp table from employees\n",
    "query = \"SELECT * FROM employees.titles;\"\n",
    "titles = get_dataframe(user_id, pwd, host_name, src_dbname, text(query))\n",
    "titles.head(1)"
   ]
  },
  {
   "cell_type": "markdown",
   "id": "3d385c27-4687-451b-a433-00c9f81cf016",
   "metadata": {},
   "source": [
    "# Build fact_employees"
   ]
  },
  {
   "cell_type": "code",
   "execution_count": null,
   "id": "70cd9775-5793-43f6-896c-809a0172342f",
   "metadata": {
    "tags": []
   },
   "outputs": [],
   "source": [
    "#The fact employees table will include all of the information about the employees from the employees' dept & emp number to the hire date \n",
    "df_fact_femployees = pd.merge(employees, dept_emp)\n",
    "df_fact_femployees.head(1)\n",
    "\n",
    "# now df_fact_femployees has a dept_emp column, so I can now merge the actual deparments table onto that. "
   ]
  },
  {
   "cell_type": "code",
   "execution_count": null,
   "id": "9629b3d2-b35c-4093-95cb-e55dc119587e",
   "metadata": {
    "tags": []
   },
   "outputs": [],
   "source": [
    "df_fact_femployees = pd.merge(df_fact_femployees, departments)\n",
    "df_fact_femployees.head(1)\n",
    "#Now the table includes the departments, I intend to clean up duplicate/unnecessary columns at the end."
   ]
  },
  {
   "cell_type": "code",
   "execution_count": null,
   "id": "8718fa51-206f-49dd-8dcd-675f416365db",
   "metadata": {
    "tags": []
   },
   "outputs": [],
   "source": [
    "df_fact_femployees = pd.merge(df_fact_femployees, titles)\n",
    "df_fact_femployees.head(1)\n",
    "#now the table has titles "
   ]
  },
  {
   "cell_type": "code",
   "execution_count": null,
   "id": "8718fa51-206f-49dd-8dcd-675f416365db",
   "metadata": {
    "tags": []
   },
   "outputs": [],
   "source": [
    "employees = pd.merge(df_fact_femployees, salaries)\n",
    "employees.head(1)\n",
    "#now the table has dept_manager"
   ]
  },
  {
   "cell_type": "markdown",
   "id": "fa27d6f7-0fa8-4f85-b5f9-856566c76f5b",
   "metadata": {
    "tags": []
   },
   "source": [
    "# Move dataframe into my MongoDB cluster"
   ]
  },
  {
   "cell_type": "code",
   "execution_count": null,
   "id": "7d063a56-7419-4266-9400-1564e90a4f92",
   "metadata": {
    "tags": []
   },
   "outputs": [],
   "source": [
    "host_name = \"localhost\"\n",
    "port = \"27017\"\n",
    "\n",
    "atlas_cluster_name = \"cluster1\"\n",
    "atlas_default_dbname = \"employees\"\n",
    "atlas_user_name = \"ds2002\"\n",
    "atlas_password = os.environ[\"PWD\"] # omitted the cell defining this variable for password security. \n",
    "atlas_special_key = \"enga0sb\"\n",
    "\n",
    "conn_str = f\"mongodb+srv://{atlas_user_name}:{atlas_password}@{atlas_cluster_name}.{atlas_special_key}.mongodb.net\"\n"
   ]
  },
  {
   "cell_type": "code",
   "execution_count": null,
   "id": "96544f0f-bc7e-4f2d-9625-fa1fd414ab62",
   "metadata": {
    "tags": []
   },
   "outputs": [],
   "source": [
    "#My function that sets a mongodb collection to be the provided dataframe\n",
    "def set_mongo_dataframe(connection_str, db_name, collection, df):\n",
    "        client = pymongo.MongoClient(connection_str)\n",
    "        db = client[db_name]\n",
    "        db[collection].insert_many(df.to_dict('records'))\n",
    "        client.close()"
   ]
  },
  {
   "cell_type": "code",
   "execution_count": null,
   "id": "98b95151-b545-4a69-9f46-45ee532ccb17",
   "metadata": {
    "tags": []
   },
   "outputs": [],
   "source": [
    "# Assume df is your Pandas DataFrame containing the datetime column with invalid dates\n",
    "default_date = pd.Timestamp('2024-01-01')\n",
    "\n",
    "# Assume df is your Pandas DataFrame containing the datetime column to be formatted\n",
    "df_fact_femployees['to_date'] = pd.to_datetime(df_fact_femployees['to_date'],  errors='coerce').fillna((default_date))\n",
    "\n",
    "# Convert the datetime column to the desired format\n",
    "df_fact_femployees['to_date'] = df_fact_femployees['to_date'].dt.strftime('%Y-%m-%d %H:%M:%S')\n",
    "\n",
    "# Assume df is your Pandas DataFrame containing the datetime column to be formatted\n",
    "df_fact_femployees['from_date'] = pd.to_datetime(df_fact_femployees['from_date'],  errors='coerce').fillna((default_date))\n",
    "\n",
    "# Convert the datetime column to the desired format\n",
    "df_fact_femployees['from_date'] = df_fact_femployees['from_date'].dt.strftime('%Y-%m-%d %H:%M:%S')\n",
    "\n",
    "# Assume df is your Pandas DataFrame containing the datetime column to be formatted\n",
    "df_fact_femployees['birth_date'] = pd.to_datetime(df_fact_femployees['birth_date'],  errors='coerce').fillna((default_date))\n",
    "\n",
    "# Convert the datetime column to the desired format\n",
    "df_fact_femployees['birth_date'] = df_fact_femployees['birth_date'].dt.strftime('%Y-%m-%d %H:%M:%S')\n",
    "\n",
    "# Assume df is your Pandas DataFrame containing the datetime column to be formatted\n",
    "df_fact_femployees['hire_date'] = pd.to_datetime(df_fact_femployees['hire_date'],  errors='coerce').fillna((default_date))\n",
    "\n",
    "# Convert the datetime column to the desired format\n",
    "df_fact_femployees['hire_date'] = df_fact_femployees['hire_date'].dt.strftime('%Y-%m-%d %H:%M:%S')\n",
    "\n",
    "df_fact_femployees.head(1)"
   ]
  },
  {
   "cell_type": "code",
   "execution_count": null,
   "id": "9955b419",
   "metadata": {},
   "outputs": [],
   "source": [
    "set_mongo_dataframe(conn_str, 'ds2002-Midterm', 'fact_employees', df_fact_femployees)\n"
   ]
  },
  {
   "cell_type": "code",
   "execution_count": null,
   "id": "9d09c10b-7421-4e32-88fa-b4143011234a",
   "metadata": {
    "tags": []
   },
   "outputs": [],
   "source": [
    "#Professor Tupitza's function\n",
    "def get_mongo_dataframe(connect_str, db_name, collection, query):\n",
    "    '''Create a connection to MongoDB'''\n",
    "    client = pymongo.MongoClient(connect_str)\n",
    "    \n",
    "    '''Query MongoDB, and fill a python list with documents to create a DataFrame'''\n",
    "    db = client[db_name]\n",
    "    dframe = pd.DataFrame(list(db[collection].find(query)))\n",
    "    dframe.drop(['_id'], axis=1, inplace=True)\n",
    "    client.close()\n",
    "    return dframe\n"
   ]
  },
  {
   "cell_type": "code",
   "execution_count": null,
   "id": "cb3e8229-1d35-42cf-a776-d464880d8e4a",
   "metadata": {
    "tags": []
   },
   "outputs": [],
   "source": [
    "df_fact_femployees2 = get_mongo_dataframe(conn_str, 'ds2002-Midterm', 'fact_employees', '')\n",
    "df_fact_femployees2.head(2)\n",
    "#The table was actually loaded!"
   ]
  },
  {
   "cell_type": "markdown",
   "id": "69268989-b21f-405a-ae7d-d9681b6da828",
   "metadata": {},
   "source": [
    "# Loads the data into Mongodb to complete the \"Data Mart\" :"
   ]
  },
  {
   "cell_type": "code",
   "execution_count": null,
   "id": "c71a85c3-e36e-49d1-bdc1-a28f2da706fa",
   "metadata": {
    "tags": []
   },
   "outputs": [],
   "source": [
    "set_mongo_dataframe(conn_str, 'ds2002-Midterm', 'departments' , departments)"
   ]
  },
  {
   "cell_type": "code",
   "execution_count": null,
   "id": "9b11e42e-5603-470e-afe6-c7e0e1be13f0",
   "metadata": {
    "tags": []
   },
   "outputs": [],
   "source": [
    "# Assume df is your Pandas DataFrame containing the datetime column with invalid dates\n",
    "default_date = pd.Timestamp('2024-01-01')\n",
    "\n",
    "# Assume df is your Pandas DataFrame containing the datetime column to be formatted\n",
    "employees['to_date'] = pd.to_datetime(employees['to_date'],  errors='coerce').fillna((default_date))\n",
    "\n",
    "# Convert the datetime column to the desired format\n",
    "employees['to_date'] = employees['to_date'].dt.strftime('%Y-%m-%d %H:%M:%S')\n",
    "\n",
    "# Assume df is your Pandas DataFrame containing the datetime column to be formatted\n",
    "employees['from_date'] = pd.to_datetime(employees['from_date'],  errors='coerce').fillna((default_date))\n",
    "\n",
    "# Convert the datetime column to the desired format\n",
    "employees['from_date'] = employees['from_date'].dt.strftime('%Y-%m-%d %H:%M:%S')\n",
    "\n",
    "# Assume df is your Pandas DataFrame containing the datetime column to be formatted\n",
    "employees['birth_date'] = pd.to_datetime(employees['birth_date'],  errors='coerce').fillna((default_date))\n",
    "\n",
    "# Convert the datetime column to the desired format\n",
    "employees['birth_date'] = employees['birth_date'].dt.strftime('%Y-%m-%d %H:%M:%S')\n",
    "\n",
    "# Assume df is your Pandas DataFrame containing the datetime column to be formatted\n",
    "employees['hire_date'] = pd.to_datetime(employees['hire_date'],  errors='coerce').fillna((default_date))\n",
    "\n",
    "# Convert the datetime column to the desired format\n",
    "employees['hire_date'] = employees['hire_date'].dt.strftime('%Y-%m-%d %H:%M:%S')\n",
    "\n",
    "\n",
    "set_mongo_dataframe(conn_str, 'ds2002-Midterm', 'employees' , employees)"
   ]
  },
  {
   "cell_type": "code",
   "execution_count": null,
   "id": "2277540b-d249-44a8-b8c3-da3558b4827f",
   "metadata": {
    "tags": []
   },
   "outputs": [],
   "source": [
    "# Assume df is your Pandas DataFrame containing the datetime column with invalid dates\n",
    "default_date = pd.Timestamp('2024-01-01')\n",
    "\n",
    "# Assume df is your Pandas DataFrame containing the datetime column to be formatted\n",
    "dept_emp['to_date'] = pd.to_datetime(dept_emp['to_date'],  errors='coerce').fillna((default_date))\n",
    "\n",
    "# Convert the datetime column to the desired format\n",
    "dept_emp['to_date'] = dept_emp['to_date'].dt.strftime('%Y-%m-%d %H:%M:%S')\n",
    "\n",
    "# Assume df is your Pandas DataFrame containing the datetime column to be formatted\n",
    "dept_emp['from_date'] = pd.to_datetime(dept_emp['from_date'],  errors='coerce').fillna((default_date))\n",
    "\n",
    "# Convert the datetime column to the desired format\n",
    "dept_emp['from_date'] = dept_emp['from_date'].dt.strftime('%Y-%m-%d %H:%M:%S')\n",
    "\n",
    "set_mongo_dataframe(conn_str, 'ds2002-Midterm', 'dept_emp' , dept_emp)"
   ]
  },
  {
   "cell_type": "code",
   "execution_count": null,
   "id": "bccdbba6-edab-420a-964a-3a7a8d50c07f",
   "metadata": {
    "tags": []
   },
   "outputs": [],
   "source": [
    "# Assume df is your Pandas DataFrame containing the datetime column with invalid dates\n",
    "default_date = pd.Timestamp('2024-01-01')\n",
    "\n",
    "\n",
    "# Assume df is your Pandas DataFrame containing the datetime column to be formatted\n",
    "salaries['to_date'] = pd.to_datetime(salaries['to_date'],  errors='coerce').fillna((default_date))\n",
    "\n",
    "# Convert the datetime column to the desired format\n",
    "salaries['to_date'] = salaries['to_date'].dt.strftime('%Y-%m-%d %H:%M:%S')\n",
    "\n",
    "# Assume df is your Pandas DataFrame containing the datetime column to be formatted\n",
    "salaries['from_date'] = pd.to_datetime(salaries['from_date'],  errors='coerce').fillna((default_date))\n",
    "\n",
    "# Convert the datetime column to the desired format\n",
    "salaries['from_date'] = salaries['from_date'].dt.strftime('%Y-%m-%d %H:%M:%S')\n",
    "\n",
    "set_mongo_dataframe(conn_str, 'ds2002-Midterm', 'salaries' , salaries)"
   ]
  },
  {
   "cell_type": "code",
   "execution_count": null,
   "id": "eb32d8f9",
   "metadata": {},
   "outputs": [],
   "source": [
    "# Assume df is your Pandas DataFrame containing the datetime column with invalid dates\n",
    "default_date = pd.Timestamp('2024-01-01')\n",
    "\n",
    "# Assume df is your Pandas DataFrame containing the datetime column to be formatted\n",
    "titles['to_date'] = pd.to_datetime(titles['to_date'],  errors='coerce').fillna((default_date))\n",
    "\n",
    "# Convert the datetime column to the desired format\n",
    "titles['to_date'] = titles['to_date'].dt.strftime('%Y-%m-%d %H:%M:%S')\n",
    "\n",
    "# Assume df is your Pandas DataFrame containing the datetime column to be formatted\n",
    "titles['from_date'] = pd.to_datetime(titles['from_date'],  errors='coerce').fillna((default_date))\n",
    "\n",
    "# Convert the datetime column to the desired format\n",
    "titles['from_date'] = titles['from_date'].dt.strftime('%Y-%m-%d %H:%M:%S')\n",
    "\n",
    "set_mongo_dataframe(conn_str, 'ds2002-Midterm', 'titles' , titles)"
   ]
  },
  {
   "cell_type": "markdown",
   "id": "71e3d392-b9c0-4eae-b1da-50d5296bac1c",
   "metadata": {},
   "source": [
    "# Data mart now established, all dataframes loaded into the 'ds2002-Midterm'. \n",
    "\n"
   ]
  },
  {
   "cell_type": "markdown",
   "id": "ded8e622",
   "metadata": {},
   "source": [
    "### Now to load a table from a local file system into a dataframe and then into the Data mart:"
   ]
  },
  {
   "cell_type": "code",
   "execution_count": null,
   "id": "d41f1832-3dfe-4925-95ee-bb88480d00e7",
   "metadata": {
    "tags": []
   },
   "outputs": [],
   "source": [
    "data_dir = os.path.join(os.getcwd(), 'dept_manager.csv')\n",
    "print(data_dir)"
   ]
  },
  {
   "cell_type": "code",
   "execution_count": null,
   "id": "d482bb13-0f4e-4e29-915c-15d523efbd67",
   "metadata": {
    "tags": []
   },
   "outputs": [],
   "source": [
    "dept_manager_text = pd.read_csv(data_dir, sep = \";\")\n",
    "dept_manager_text = dept_manager_text.reset_index(drop = True)\n",
    "dept_manager_text.head(5)"
   ]
  },
  {
   "cell_type": "code",
   "execution_count": null,
   "id": "50b6109d-dc4f-4693-a697-b92631d1fb07",
   "metadata": {
    "tags": []
   },
   "outputs": [],
   "source": [
    "set_mongo_dataframe(conn_str, 'ds2002-Midterm', 'film_text' , dept_manager_text)"
   ]
  },
  {
   "cell_type": "markdown",
   "id": "a9af3e4c-f656-46a9-9bb3-612b5f8c720b",
   "metadata": {},
   "source": [
    "# Load all of this data into it's own data warehouse on my local SQL server"
   ]
  },
  {
   "cell_type": "code",
   "execution_count": null,
   "id": "92aea0e8-e724-4160-8b0a-ec486c90e87a",
   "metadata": {
    "tags": []
   },
   "outputs": [],
   "source": [
    "#Professor Tupitza's function for setting a table in a sql server. \n",
    "def set_dataframe(user_id, pwd, host_name, db_name, df, table_name, pk_column, db_operation):\n",
    "    conn_str = f\"mysql+pymysql://{user_id}:{pwd}@{host_name}/{db_name}\"\n",
    "    sqlEngine = create_engine(conn_str, pool_recycle=360)\n",
    "    connection = sqlEngine.connect()\n",
    "        \n",
    "    if db_operation == \"insert\":\n",
    "        df.to_sql(table_name, schema = db_name, con = sqlEngine, index=False, if_exists='replace')\n",
    "        #connection.execute(text(f\"ALTER TABLE {table_name} ADD PRIMARY KEY ({pk_column});\"))\n",
    "            \n",
    "    elif db_operation == \"update\":\n",
    "        df.to_sql(table_name, schema=db_name,con=connection, index=False, if_exists='append')\n",
    "    \n",
    "    connection.close()"
   ]
  },
  {
   "cell_type": "code",
   "execution_count": null,
   "id": "5b8ff4b3-d7b1-47bb-ab38-cae14fa5a014",
   "metadata": {
    "tags": []
   },
   "outputs": [],
   "source": [
    "conn_str = f\"mysql+pymysql://{user_id}:{pwd}@{host_name}\"\n",
    "sqlEngine = create_engine(conn_str, pool_recycle=3600)\n",
    "\n",
    "conn = sqlEngine.connect()\n",
    "\n",
    "conn.execute(text(\"DROP DATABASE IF EXISTS `ds2002-Midterm`;\"))\n",
    "conn.execute(text(\"CREATE DATABASE `ds2002-Midterm`;\"))\n",
    "\n",
    "dst_dbname = 'ds2002-Midterm'\n",
    "\n",
    "conn.close()\n"
   ]
  },
  {
   "cell_type": "code",
   "execution_count": null,
   "id": "ba02b219-fa0c-43b3-bb21-4c488c6384c4",
   "metadata": {
    "tags": []
   },
   "outputs": [],
   "source": [
    "tables = [('fact_employees', df_fact_femployees, 'emp_no'), ('employees', employees, 'emp_no'), ('departments', departments, 'dep_no'), ('dept_emp', dept_emp, 'dep_no'), \n",
    "          ('salaries', salaries, 'emp_no'), ('titles', titles, 'emp_no'), ('dept_manager_text', dept_manager_text, 'dept_no'),]\n",
    "\n",
    "db_operation = \"insert\"\n",
    "\n",
    "for table_name, dataframe, primary_key in tables:\n",
    "    set_dataframe(user_id, pwd, host_name, dst_dbname, dataframe, table_name, primary_key, db_operation)"
   ]
  },
  {
   "cell_type": "markdown",
   "id": "fd970584-0db5-41e5-b7d5-0b6104b31747",
   "metadata": {},
   "source": [
    "# Data mart is finished"
   ]
  },
  {
   "cell_type": "code",
   "execution_count": null,
   "id": "b56c7e6f-2f5c-4812-93b7-0b1439892bd9",
   "metadata": {
    "tags": []
   },
   "outputs": [],
   "source": [
    "query = \"SELECT * FROM dim_date;\"\n",
    "df_dim_date = get_dataframe(user_id, pwd, host_name, 'ds2002-midterm', text(query))\n",
    "df_dim_date.head(2)"
   ]
  },
  {
   "cell_type": "code",
   "execution_count": null,
   "id": "466fe59b-cbf7-4f00-9ac2-5e3e312f332e",
   "metadata": {
    "tags": []
   },
   "outputs": [],
   "source": [
    "import datetime\n",
    "\n",
    "#Changes datetime.date to be datetime.datetime for compatibility with mongo. \n",
    "\n",
    "for col in df_dim_date.columns:\n",
    "    df_dim_date[col] = df_dim_date[col].apply(lambda d: datetime.datetime.combine(d, datetime.time.min) if isinstance(d, datetime.date) else d)\n",
    "        \n"
   ]
  },
  {
   "cell_type": "code",
   "execution_count": null,
   "id": "21e331e3-5e8f-4512-bbd1-6c7047b1952a",
   "metadata": {
    "tags": []
   },
   "outputs": [],
   "source": [
    "set_mongo_dataframe(conn_str, 'ds2002-Midterm', 'dim_date', df_dim_date)"
   ]
  },
  {
   "cell_type": "code",
   "execution_count": null,
   "id": "69dd9d09-1db7-4657-956a-8f5e03e7532f",
   "metadata": {
    "tags": []
   },
   "outputs": [],
   "source": [
    "#Update the fact_films so that it has the date_key's \n",
    "query = \"SELECT * FROM fact_employees;\"\n",
    "fact_employees = get_dataframe(user_id, pwd, host_name, 'ds2002-midterm', text(query))"
   ]
  },
  {
   "cell_type": "code",
   "execution_count": null,
   "id": "92c21f1b-3a09-4c28-a6b4-97450c4e23ba",
   "metadata": {
    "tags": []
   },
   "outputs": [],
   "source": [
    "set_mongo_dataframe(conn_str, 'ds2002-Midterm', 'fact_employees', fact_employees)"
   ]
  },
  {
   "cell_type": "markdown",
   "id": "decd4c9f-fb1f-4d22-9ad2-23ef4713e34a",
   "metadata": {},
   "source": [
    "## Screenshots turned in alongside this notebook for proof"
   ]
  },
  {
   "cell_type": "code",
   "execution_count": null,
   "id": "acb47f2d-ac77-486f-be4b-b8dd0c410a18",
   "metadata": {
    "tags": []
   },
   "outputs": [],
   "source": [
    "from IPython.display import Image\n",
    "Image(filename='mySQL.png') "
   ]
  },
  {
   "cell_type": "code",
   "execution_count": null,
   "id": "b8fe957e-0e53-4683-ad15-4767457cb923",
   "metadata": {
    "tags": []
   },
   "outputs": [],
   "source": [
    "Image(filename='mongoDB.png')"
   ]
  }
 ],
 "metadata": {
  "kernelspec": {
   "display_name": "Python 3",
   "language": "python",
   "name": "python3"
  },
  "language_info": {
   "codemirror_mode": {
    "name": "ipython",
    "version": 3
   },
   "file_extension": ".py",
   "mimetype": "text/x-python",
   "name": "python",
   "nbconvert_exporter": "python",
   "pygments_lexer": "ipython3",
   "version": "3.10.5"
  },
  "vscode": {
   "interpreter": {
    "hash": "7e1998ff7f8aa20ada591c520b972326324e5ea05489af9e422744c7c09f6dad"
   }
  }
 },
 "nbformat": 4,
 "nbformat_minor": 5
}
